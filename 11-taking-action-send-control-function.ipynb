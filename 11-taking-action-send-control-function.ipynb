{
 "cells": [
  {
   "cell_type": "code",
   "execution_count": 1,
   "metadata": {
    "collapsed": true
   },
   "outputs": [],
   "source": [
    "def send_control(commands, image_string1, image_string2):\n",
    "    # Define commands to be sent to the rover\n",
    "    data={\n",
    "        'throttle': commands[0].__str__(),\n",
    "        'brake': commands[1].__str__(),\n",
    "        'steering_angle': commands[2].__str__(),\n",
    "        'inset_image1': image_string1,\n",
    "        'inset_image2': image_string2,\n",
    "        }\n",
    "    # Send commands via socketIO server\n",
    "    sio.emit(\n",
    "        \"data\",\n",
    "        data,\n",
    "        skip_sid=True)"
   ]
  },
  {
   "cell_type": "markdown",
   "metadata": {},
   "source": [
    "This function takes in the argument commands, which is a 3-tuple containing the throttle, brake and steering values you have stored in the Rover.throttle, Rover.brake and Rover.steer attributes of your RoverState() object.\n",
    "\n",
    "The other arguments are called image_string1 and image_string2 and will contain your Rover.vision_image and Rover.worldmap images converted to base64 strings that will be rendered onscreen while you're navigating in autonomous mode.\n",
    "\n",
    "The send_control() function creates a dictionary called data with all of these values then passes this dictionary to the sio.emit() function to send commands and images to the rover. You don't need to worry about exactly how this gets accomplished, just that once you have updated Rover.throttle, Rover.brake and Rover.steer, your commands input to send_control() will be updated and each time you update Rover.vision_image and Rover.worldmap the two display images will be updated."
   ]
  },
  {
   "cell_type": "code",
   "execution_count": null,
   "metadata": {
    "collapsed": true
   },
   "outputs": [],
   "source": []
  }
 ],
 "metadata": {
  "kernelspec": {
   "display_name": "Python 3",
   "language": "python",
   "name": "python3"
  },
  "language_info": {
   "codemirror_mode": {
    "name": "ipython",
    "version": 3
   },
   "file_extension": ".py",
   "mimetype": "text/x-python",
   "name": "python",
   "nbconvert_exporter": "python",
   "pygments_lexer": "ipython3",
   "version": "3.5.2"
  },
  "widgets": {
   "state": {},
   "version": "1.1.2"
  }
 },
 "nbformat": 4,
 "nbformat_minor": 2
}
