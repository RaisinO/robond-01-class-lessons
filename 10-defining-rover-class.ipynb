{
 "cells": [
  {
   "cell_type": "markdown",
   "metadata": {},
   "source": [
    "In this project, you'll be receiving information about the current state of the rover -- things like current position, velocity, orientation, steering angle and more. You'll define a Python class called RoverState() that will allow you to track the changing state of the rover. The default RoverState() provided to you will look like this (but you could add or remove attributes as you like):"
   ]
  },
  {
   "cell_type": "code",
   "execution_count": null,
   "metadata": {
    "collapsed": true
   },
   "outputs": [],
   "source": [
    "# Define RoverState() class to retain rover state parameters\n",
    "class RoverState():\n",
    "    def __init__(self):\n",
    "        self.start_time = None # To record the start time of navigation\n",
    "        self.total_time = None # To record total duration of navigation\n",
    "        self.img = None # Current camera image\n",
    "        self.pos = None # Current position (x, y)\n",
    "        self.yaw = None # Current yaw angle\n",
    "        self.pitch = None # Current pitch angle\n",
    "        self.roll = None # Current roll angle\n",
    "        self.vel = None # Current velocity\n",
    "        self.steer = 0 # Current steering angle\n",
    "        self.throttle = 0 # Current throttle value\n",
    "        self.brake = 0 # Current brake value\n",
    "        self.nav_angles = None # Angles of navigable terrain pixels\n",
    "        self.nav_dists = None # Distances of navigable terrain pixels\n",
    "        self.ground_truth = ground_truth_3d # Ground truth worldmap\n",
    "        self.mode = 'forward' # Current mode (can be forward or stop)\n",
    "        self.throttle_set = 0.2 # Throttle setting when accelerating\n",
    "        self.brake_set = 10 # Brake setting when braking\n",
    "        # The stop_forward and go_forward fields below represent total count\n",
    "        # of navigable terrain pixels.  This is a very crude form of knowing\n",
    "        # when you can keep going and when you should stop.  Feel free to\n",
    "        # get creative in adding new fields or modifying these!\n",
    "        self.stop_forward = 50 # Threshold to initiate stopping\n",
    "        self.go_forward = 500 # Threshold to go forward again\n",
    "        self.max_vel = 2 # Maximum velocity (meters/second)\n",
    "        # Image output from perception step\n",
    "        # Update this image to display your intermediate analysis steps\n",
    "        # on screen in autonomous mode\n",
    "        self.vision_image = np.zeros((160, 320, 3), dtype=np.float) \n",
    "        # Worldmap\n",
    "        # Update this image with the positions of navigable terrain\n",
    "        # obstacles and rock samples\n",
    "        self.worldmap = np.zeros((200, 200, 3), dtype=np.float) \n",
    "        self.samples_pos = None # To store the actual sample positions\n",
    "        self.samples_found = 0 # To count the number of samples found\n",
    "        self.near_sample = False # Set to True if within reach of a rock sample\n",
    "        self.pick_up = False # Set to True to trigger rock pickup\n",
    "        \n",
    "#Create an instance of this class\n",
    "Rover=RoverState()\n",
    "\n",
    "#Update Rover with each new set of telemetry values, for example:\n",
    "Rover.vel = new_velocity_from_telemetry\n",
    "Rover.yaw = new_yaw_from_telemetry\n",
    "\n",
    "#Create a decision tree using conditional statements to decide what to do next based on current telemetry\n",
    "#and / or your analysis, for example:\n",
    "\n",
    "if Rover.vel >= Rover.max_vel:\n",
    "    Rover.throttle = 0\n",
    "else:\n",
    "    Rover.throttle = Rover.throttle_set\n",
    "    \n",
    "#You now have the ability to send commands to the rover to change throttle, brake, steering angle and take action!"
   ]
  }
 ],
 "metadata": {
  "kernelspec": {
   "display_name": "Python 3",
   "language": "python",
   "name": "python3"
  },
  "language_info": {
   "codemirror_mode": {
    "name": "ipython",
    "version": 3
   },
   "file_extension": ".py",
   "mimetype": "text/x-python",
   "name": "python",
   "nbconvert_exporter": "python",
   "pygments_lexer": "ipython3",
   "version": "3.5.2"
  },
  "widgets": {
   "state": {},
   "version": "1.1.2"
  }
 },
 "nbformat": 4,
 "nbformat_minor": 2
}
